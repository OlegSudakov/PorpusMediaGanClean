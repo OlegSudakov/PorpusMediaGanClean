{
 "cells": [
  {
   "cell_type": "code",
   "execution_count": 4,
   "metadata": {},
   "outputs": [],
   "source": [
    "import numpy as np\n",
    "import matplotlib.pyplot as plt\n",
    "from scipy.ndimage.filters import median_filter\n",
    "from skimage.filters import threshold_otsu\n",
    "import torch\n",
    "\n",
    "%matplotlib inline"
   ]
  },
  {
   "cell_type": "code",
   "execution_count": 5,
   "metadata": {
    "scrolled": false
   },
   "outputs": [],
   "source": [
    "def examine_samples(epoch, filter_size, num):\n",
    "    samples = np.load(\"./generated/fake_samples_{}.npy\".format(epoch))\n",
    "    sample = samples[num,0,:,:,:]\n",
    "    sample = (sample+1.)/2.\n",
    "    sample = median_filter(sample, size=filter_size, mode=\"constant\", cval=1)\n",
    "    threshold_global_otsu = threshold_otsu(sample)\n",
    "    sample = (sample >= threshold_global_otsu).astype(np.int32)\n",
    "    #sample = np.round(sample)\n",
    "    fig, ax = plt.subplots(4, 4, figsize=(8, 8))\n",
    "    #print(\"{} permeability, epoch {}, attempt {}\".format(k, epoch, attempt))\n",
    "    for i in range(0, 4):\n",
    "        img = ax[0, i].imshow(sample[i*4-1, :, :], cmap=\"gray\", interpolation='nearest')\n",
    "\n",
    "    for i in range(4, 8):\n",
    "        img = ax[1, i-4].imshow(sample[i*4-1, :, :], cmap=\"gray\", interpolation='nearest')\n",
    "\n",
    "    for i in range(8, 12):\n",
    "        img = ax[2, i-8].imshow(sample[i*4-1, :, :], cmap=\"gray\", interpolation='nearest')\n",
    "\n",
    "    for i in range(12, 16):\n",
    "        img = ax[3, i-16].imshow(sample[i*4-1, :, :], cmap=\"gray\", interpolation='nearest')\n",
    "    for a in ax.flatten():\n",
    "        a.set_xticklabels([])\n",
    "        a.set_yticklabels([])\n",
    "        a.set_aspect('equal')\n",
    "        a.set_xticks([])\n",
    "        a.set_yticks([])\n",
    "    plt.subplots_adjust(wspace=0.05, hspace=0.05)\n",
    "    plt.show()"
   ]
  },
  {
   "cell_type": "code",
   "execution_count": 7,
   "metadata": {},
   "outputs": [
    {
     "data": {
      "image/png": "[encoded data removed]",
      "text/plain": [
       "<matplotlib.figure.Figure at 0x7f5e4b1c1c88>"
      ]
     },
     "metadata": {},
     "output_type": "display_data"
    }
   ],
   "source": [
    "examine_samples(2500, 3, 12)"
   ]
  },
  {
   "cell_type": "code",
   "execution_count": null,
   "metadata": {},
   "outputs": [],
   "source": []
  }
 ],
 "metadata": {
  "kernelspec": {
   "display_name": "Python 3",
   "language": "python",
   "name": "python3"
  },
  "language_info": {
   "codemirror_mode": {
    "name": "ipython",
    "version": 3
   },
   "file_extension": ".py",
   "mimetype": "text/x-python",
   "name": "python",
   "nbconvert_exporter": "python",
   "pygments_lexer": "ipython3",
   "version": "3.6.4"
  }
 },
 "nbformat": 4,
 "nbformat_minor": 2
}
