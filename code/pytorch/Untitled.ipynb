{
 "cells": [
  {
   "cell_type": "code",
   "execution_count": 5,
   "metadata": {
    "collapsed": true
   },
   "outputs": [],
   "source": [
    "import numpy as np\n",
    "\n",
    "X = np.arange(4)"
   ]
  },
  {
   "cell_type": "code",
   "execution_count": 6,
   "metadata": {
    "collapsed": false
   },
   "outputs": [],
   "source": [
    "X = X.reshape(X.shape[0], 1, 1, 1)"
   ]
  },
  {
   "cell_type": "code",
   "execution_count": 7,
   "metadata": {
    "collapsed": true
   },
   "outputs": [],
   "source": [
    "from dataloader import iterate"
   ]
  },
  {
   "cell_type": "code",
   "execution_count": 25,
   "metadata": {
    "collapsed": false
   },
   "outputs": [
    {
     "name": "stdout",
     "output_type": "stream",
     "text": [
      "[[[[3]]]\n",
      "\n",
      "\n",
      " [[[0]]]\n",
      "\n",
      "\n",
      " [[[2]]]\n",
      "\n",
      "\n",
      " [[[1]]]]\n",
      "(4, 1, 1, 1)\n"
     ]
    }
   ],
   "source": [
    "for b in iterate(X, 4):\n",
    "    print(b)\n",
    "    print(b.shape)"
   ]
  },
  {
   "cell_type": "code",
   "execution_count": 8,
   "metadata": {
    "collapsed": false
   },
   "outputs": [
    {
     "data": {
      "text/plain": [
       "array([[[[ 2]]],\n",
       "\n",
       "\n",
       "       [[[ 0]]],\n",
       "\n",
       "\n",
       "       [[[ 1]]],\n",
       "\n",
       "\n",
       "       [[[ 4]]],\n",
       "\n",
       "\n",
       "       [[[ 3]]],\n",
       "\n",
       "\n",
       "       [[[ 8]]],\n",
       "\n",
       "\n",
       "       [[[10]]],\n",
       "\n",
       "\n",
       "       [[[12]]],\n",
       "\n",
       "\n",
       "       [[[ 5]]],\n",
       "\n",
       "\n",
       "       [[[11]]],\n",
       "\n",
       "\n",
       "       [[[ 6]]],\n",
       "\n",
       "\n",
       "       [[[ 9]]],\n",
       "\n",
       "\n",
       "       [[[ 7]]]])"
      ]
     },
     "execution_count": 8,
     "metadata": {},
     "output_type": "execute_result"
    }
   ],
   "source": [
    "X"
   ]
  },
  {
   "cell_type": "code",
   "execution_count": null,
   "metadata": {
    "collapsed": true
   },
   "outputs": [],
   "source": []
  }
 ],
 "metadata": {
  "kernelspec": {
   "display_name": "Python 3",
   "language": "python",
   "name": "python3"
  },
  "language_info": {
   "codemirror_mode": {
    "name": "ipython",
    "version": 3
   },
   "file_extension": ".py",
   "mimetype": "text/x-python",
   "name": "python",
   "nbconvert_exporter": "python",
   "pygments_lexer": "ipython3",
   "version": "3.6.0"
  }
 },
 "nbformat": 4,
 "nbformat_minor": 2
}
